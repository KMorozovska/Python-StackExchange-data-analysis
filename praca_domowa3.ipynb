{
 "cells": [
  {
   "cell_type": "markdown",
   "metadata": {
    "collapsed": true
   },
   "source": [
    "# Praca domowa nr 3"
   ]
  },
  {
   "cell_type": "markdown",
   "metadata": {
    "collapsed": true
   },
   "source": [
    "Analiza wybranych forum Stack Exchange:\n",
    "\n",
    "* matematyka        \n",
    "* fizyka  \n",
    "* elektronika \n",
    "* polityka\n",
    "* filozofia\n",
    "* historia\n",
    "* judaizm\n",
    "* chrzescijanstwo\n",
    "* islam"
   ]
  },
  {
   "cell_type": "code",
   "execution_count": 11,
   "metadata": {
    "collapsed": false
   },
   "outputs": [
    {
     "name": "stdout",
     "output_type": "stream",
     "text": [
      "history_Posts.csv\n",
      "history_Users.csv\n",
      "history_Comments.csv\n",
      "history_Votes.csv\n",
      "history_PostHistory.csv\n",
      "history_Tags.csv\n",
      "history_Badges.csv\n",
      "history_PostLinks.csv\n"
     ]
    }
   ],
   "source": [
    "# import danych\n",
    "\n",
    "import pandas as pd\n",
    "import os\n",
    "from lxml.etree import XMLParser, parse\n",
    "from xml.dom import minidom\n",
    "import csv\n",
    "\n",
    "rootdir = '/home/kasia/Pulpit/studia_MINI/Python/praca_domowa3/data/history'\n",
    "\n",
    "badges_fields = [\"Id\", \"UserId\", \"Name\", \"Date\", \"Class\", \"TagBased\"]\n",
    "users_fields = [\"Id\", \"Reputation\", \"CreationDate\", \"DisplayName\", \"LastAccessDate\", \"WebsiteUrl\",\"Location\",\"AboutMe\",\"Views\",\"UpVotes\",\"DownVotes\",\"AccountId\"]\n",
    "posts_fields = [\"Id\", \"PostTypeId\", \"AcceptedAnswerId\",\"CreationDate\", \"Score\", \"ViewCount\", \"Body\",\"OwnerUserId\",\"LastEditorUserId\",\"LastEditDate\",\"LastActivityDate\",\"Title\",\"Tags\",\"AnswerCount\",\"CommentCount\",\"FavouriteCount\"]\n",
    "comments_fields = [\"Id\", \"PostId\", \"Score\", \"Text\", \"CreationDate\", \"UserId\"]\n",
    "votes_fields = [\"Id\", \"PostId\", \"VoteTypeId\", \"CreationDate\"]\n",
    "postHistory_fields = [\"Id\", \"PostHistoryTypeId\", \"PostId\", \"RevisionGUID\", \"CreationDate\", \"UserId\",\"Text\"]\n",
    "tags_fields = [\"Id\", \"TagName\", \"Count\", \"ExcerptPostId\", \"WikiPostId\"]\n",
    "postLinks_fields = [\"Id\", \"CreationDate\", \"PostId\", \"RelatedPostId\", \"LinkTypeId\"]\n",
    "\n",
    "p = XMLParser(huge_tree=True)\n",
    "\n",
    "\n",
    "for subdir, dirs, files in os.walk(rootdir):\n",
    "    \n",
    "    for file in files:\n",
    "        filename, _ = os.path.splitext(file)\n",
    "        folder = os.path.basename(subdir)\n",
    "        #print(folder,filename)\n",
    "        \n",
    "        csv_fname = folder+\"_\"+filename+\".csv\"\n",
    "        #xml = etree.parse(subdir+\"/\"+file)\n",
    "        xml = subdir+\"/\"+file\n",
    "        \n",
    "        with open(xml) as f:\n",
    "            \n",
    "            xmldoc = minidom.parse(xml)\n",
    "            itemlist = xmldoc.getElementsByTagName('row')\n",
    "            #print(len(itemlist))\n",
    "           \n",
    "        #print(itemlist)\n",
    "        \n",
    "        with open(csv_fname, 'w') as csvfile:\n",
    "            \n",
    "            if filename == \"Posts\":\n",
    "                fieldnames=posts_fields\n",
    "                writer = csv.DictWriter(csvfile, fieldnames=posts_fields)\n",
    "            if filename == \"Badges\":\n",
    "                fieldnames=badges_fields\n",
    "                writer = csv.DictWriter(csvfile, fieldnames=badges_fields)\n",
    "            if filename == \"Users\":\n",
    "                fieldnames=users_fields\n",
    "                writer = csv.DictWriter(csvfile, fieldnames=users_fields)\n",
    "            if filename == \"Tags\":\n",
    "                fieldnames=tags_fields\n",
    "                writer = csv.DictWriter(csvfile, fieldnames=tags_fields)\n",
    "            if filename == \"Votes\":\n",
    "                fieldnames=votes_fields\n",
    "                writer = csv.DictWriter(csvfile, fieldnames=votes_fields)\n",
    "            if filename == \"Comments\":\n",
    "                fieldnames=comments_fields\n",
    "                writer = csv.DictWriter(csvfile, fieldnames=comments_fields)\n",
    "            if filename == \"PostHistory\":\n",
    "                fieldnames=postHistory_fields\n",
    "                writer = csv.DictWriter(csvfile, fieldnames=postHistory_fields)    \n",
    "            if filename == \"PostLinks\":\n",
    "                fieldnames=postLinks_fields\n",
    "                writer = csv.DictWriter(csvfile, fieldnames=postLinks_fields)    \n",
    "\n",
    "            writer.writeheader()\n",
    "\n",
    "            filled_row = {}\n",
    "            \n",
    "            for e in itemlist:\n",
    "                for head in fieldnames:\n",
    "                    if e.hasAttribute(head):\n",
    "                        filled_row.update({head : e.attributes[head].value})\n",
    "                    else:\n",
    "                        filled_row.update({head : \"Null\"})\n",
    "                       \n",
    "                writer.writerow(filled_row)\n",
    "\n",
    "        print(csv_fname+\" created\")\n",
    "        \n",
    "    "
   ]
  },
  {
   "cell_type": "code",
   "execution_count": null,
   "metadata": {
    "collapsed": true
   },
   "outputs": [],
   "source": []
  },
  {
   "cell_type": "code",
   "execution_count": null,
   "metadata": {
    "collapsed": true
   },
   "outputs": [],
   "source": []
  }
 ],
 "metadata": {
  "kernelspec": {
   "display_name": "Python 3",
   "language": "python",
   "name": "python3"
  },
  "language_info": {
   "codemirror_mode": {
    "name": "ipython",
    "version": 3
   },
   "file_extension": ".py",
   "mimetype": "text/x-python",
   "name": "python",
   "nbconvert_exporter": "python",
   "pygments_lexer": "ipython3",
   "version": "3.6.0"
  }
 },
 "nbformat": 4,
 "nbformat_minor": 2
}
